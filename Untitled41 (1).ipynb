{
  "nbformat": 4,
  "nbformat_minor": 0,
  "metadata": {
    "colab": {
      "provenance": [],
      "gpuType": "T4"
    },
    "kernelspec": {
      "name": "python3",
      "display_name": "Python 3"
    },
    "language_info": {
      "name": "python"
    },
    "accelerator": "GPU"
  },
  "cells": [
    {
      "cell_type": "code",
      "execution_count": 1,
      "metadata": {
        "id": "EGzKbnT2KVve"
      },
      "outputs": [],
      "source": [
        "import tensorflow as tf\n",
        "import os\n",
        "import numpy as np\n",
        "from sklearn.metrics import confusion_matrix\n",
        "from sklearn.metrics import classification_report\n",
        "from tensorflow.keras.preprocessing.image import ImageDataGenerator\n",
        "from tensorflow.keras.models import Sequential, Model\n",
        "from tensorflow.keras.layers import Conv2D, MaxPooling2D, Flatten, Dense, Input\n",
        "from tensorflow.keras.applications import VGG16\n",
        "from tensorflow.keras.optimizers import RMSprop\n",
        "import matplotlib.pyplot as plt\n",
        "import cv2"
      ]
    },
    {
      "cell_type": "code",
      "source": [
        "zip_file = tf.keras.utils.get_file(origin='https://storage.googleapis.com/plantdata/PlantVillage.zip',\n",
        "                                   fname='PlantVillage.zip', extract=True)\n",
        "\n",
        "data_dir = os.path.join(os.path.dirname(zip_file), 'PlantVillage')\n",
        "train_dir = os.path.join(data_dir, 'train')\n",
        "validation_dir = os.path.join(data_dir, 'validation')\n"
      ],
      "metadata": {
        "colab": {
          "base_uri": "https://localhost:8080/"
        },
        "id": "OcIvQjwrUSMa",
        "outputId": "1e9e2061-2532-40eb-c50c-50fc7784e2c8"
      },
      "execution_count": 2,
      "outputs": [
        {
          "output_type": "stream",
          "name": "stdout",
          "text": [
            "Downloading data from https://storage.googleapis.com/plantdata/PlantVillage.zip\n",
            "856839084/856839084 [==============================] - 47s 0us/step\n"
          ]
        }
      ]
    },
    {
      "cell_type": "code",
      "source": [
        "img_width, img_height = 224, 224"
      ],
      "metadata": {
        "id": "dMn1Q7RpUSOy"
      },
      "execution_count": 3,
      "outputs": []
    },
    {
      "cell_type": "code",
      "source": [
        "train_datagen = ImageDataGenerator(rescale=1./255)\n",
        "validation_datagen = ImageDataGenerator(rescale=1./255)\n",
        "\n",
        "train_generator = train_datagen.flow_from_directory(\n",
        "        train_dir,\n",
        "        target_size=(img_width, img_height),\n",
        "        batch_size=20,\n",
        "        class_mode='categorical')\n",
        "\n",
        "validation_generator = validation_datagen.flow_from_directory(\n",
        "        validation_dir,\n",
        "        target_size=(img_width, img_height),\n",
        "        batch_size=20,\n",
        "        class_mode='categorical')\n"
      ],
      "metadata": {
        "colab": {
          "base_uri": "https://localhost:8080/"
        },
        "id": "Aih7_0PQUSRT",
        "outputId": "a91445b2-c8e2-4936-dd54-dbb7e2518ccb"
      },
      "execution_count": 4,
      "outputs": [
        {
          "output_type": "stream",
          "name": "stdout",
          "text": [
            "Found 43444 images belonging to 38 classes.\n",
            "Found 10861 images belonging to 38 classes.\n"
          ]
        }
      ]
    },
    {
      "cell_type": "code",
      "source": [
        "cnn_model = Sequential([\n",
        "    Conv2D(32, (3, 3), activation='relu', input_shape=(img_width, img_height, 3)),\n",
        "    MaxPooling2D((2, 2)),\n",
        "    Conv2D(64, (3, 3), activation='relu'),\n",
        "    MaxPooling2D((2, 2)),\n",
        "    Conv2D(128, (3, 3), activation='relu'),\n",
        "    MaxPooling2D((2, 2)),\n",
        "    Conv2D(256, (3, 3), activation='relu'),\n",
        "    MaxPooling2D((2, 2)),\n",
        "    Conv2D(512, (3, 3), activation='relu'),\n",
        "    MaxPooling2D((2, 2)),\n",
        "    Conv2D(512, (3, 3), activation='relu'),\n",
        "    MaxPooling2D((2, 2)),\n",
        "    Flatten(),\n",
        "    Dense(512, activation='relu'),\n",
        "    Dense(38, activation='softmax')\n",
        "])\n"
      ],
      "metadata": {
        "id": "KxzrBrtXUSU3"
      },
      "execution_count": 5,
      "outputs": []
    },
    {
      "cell_type": "code",
      "source": [
        "cnn_model.compile(optimizer='rmsprop',\n",
        "              loss='categorical_crossentropy',\n",
        "              metrics=['accuracy'])\n"
      ],
      "metadata": {
        "id": "j9CqZ2OpUilD"
      },
      "execution_count": 6,
      "outputs": []
    },
    {
      "cell_type": "code",
      "source": [
        "cnn_history = cnn_model.fit(\n",
        "      train_generator,\n",
        "      steps_per_epoch=train_generator.samples/train_generator.batch_size ,\n",
        "      epochs=5,\n",
        "      validation_data=validation_generator,\n",
        "      validation_steps=validation_generator.samples/validation_generator.batch_size,\n",
        "      verbose=1)\n"
      ],
      "metadata": {
        "colab": {
          "base_uri": "https://localhost:8080/"
        },
        "id": "BrV5pLW4Uion",
        "outputId": "b8f6ecad-6ba5-4557-ef6d-bea2da798a09"
      },
      "execution_count": 7,
      "outputs": [
        {
          "output_type": "stream",
          "name": "stdout",
          "text": [
            "Epoch 1/5\n",
            "2172/2172 [==============================] - 132s 58ms/step - loss: 1.8803 - accuracy: 0.4774 - val_loss: 0.8350 - val_accuracy: 0.7422\n",
            "Epoch 2/5\n",
            "2172/2172 [==============================] - 118s 54ms/step - loss: 0.6539 - accuracy: 0.8040 - val_loss: 0.5092 - val_accuracy: 0.8488\n",
            "Epoch 3/5\n",
            "2172/2172 [==============================] - 118s 54ms/step - loss: 0.4784 - accuracy: 0.8628 - val_loss: 0.4074 - val_accuracy: 0.8850\n",
            "Epoch 4/5\n",
            "2172/2172 [==============================] - 116s 53ms/step - loss: 0.4475 - accuracy: 0.8822 - val_loss: 0.5361 - val_accuracy: 0.8615\n",
            "Epoch 5/5\n",
            "2172/2172 [==============================] - 114s 52ms/step - loss: 0.4482 - accuracy: 0.8898 - val_loss: 0.6964 - val_accuracy: 0.8721\n"
          ]
        }
      ]
    },
    {
      "cell_type": "code",
      "source": [
        "vgg_base = VGG16(weights='imagenet', include_top=False, input_shape=(img_width, img_height, 3))\n"
      ],
      "metadata": {
        "colab": {
          "base_uri": "https://localhost:8080/"
        },
        "id": "t4LC541lUL3K",
        "outputId": "1a4d4a3f-5b0c-4229-b3ad-e1231636efdd"
      },
      "execution_count": 8,
      "outputs": [
        {
          "output_type": "stream",
          "name": "stdout",
          "text": [
            "Downloading data from https://storage.googleapis.com/tensorflow/keras-applications/vgg16/vgg16_weights_tf_dim_ordering_tf_kernels_notop.h5\n",
            "58889256/58889256 [==============================] - 3s 0us/step\n"
          ]
        }
      ]
    },
    {
      "cell_type": "code",
      "source": [
        "for layer in vgg_base.layers:\n",
        "    layer.trainable = False"
      ],
      "metadata": {
        "id": "RaWkvXI3Uw3K"
      },
      "execution_count": 9,
      "outputs": []
    },
    {
      "cell_type": "code",
      "source": [
        "x = Flatten()(cnn_model.output)\n",
        "x = Dense(512, activation='relu')(x)\n",
        "output_layer = Dense(38, activation='softmax')(x)"
      ],
      "metadata": {
        "id": "MzeTheCpUw5I"
      },
      "execution_count": 10,
      "outputs": []
    },
    {
      "cell_type": "code",
      "source": [
        "model = Model(cnn_model.input, output_layer)\n",
        "\n",
        "model.compile(optimizer=RMSprop(lr=1e-4),\n",
        "              loss='categorical_crossentropy',\n",
        "              metrics=['accuracy'])\n",
        "\n",
        "history = model.fit(\n",
        "    train_generator,\n",
        "    steps_per_epoch=train_generator.samples/train_generator.batch_size,\n",
        "    epochs=5,\n",
        "    validation_data=validation_generator,\n",
        "    validation_steps=validation_generator.samples/validation_generator.batch_size,\n",
        "    verbose=1)\n",
        "\n",
        "model.summary()"
      ],
      "metadata": {
        "colab": {
          "base_uri": "https://localhost:8080/"
        },
        "id": "EwBaY2_DUw8A",
        "outputId": "b7ae9902-a4d1-418d-9d8d-155f141884c4"
      },
      "execution_count": 11,
      "outputs": [
        {
          "output_type": "stream",
          "name": "stderr",
          "text": [
            "WARNING:absl:`lr` is deprecated in Keras optimizer, please use `learning_rate` or use the legacy optimizer, e.g.,tf.keras.optimizers.legacy.RMSprop.\n"
          ]
        },
        {
          "output_type": "stream",
          "name": "stdout",
          "text": [
            "Epoch 1/5\n",
            "2172/2172 [==============================] - 117s 53ms/step - loss: 2.9008 - accuracy: 0.2712 - val_loss: 3.3497 - val_accuracy: 0.0986\n",
            "Epoch 2/5\n",
            "2172/2172 [==============================] - 114s 52ms/step - loss: 3.3491 - accuracy: 0.0993 - val_loss: 3.3458 - val_accuracy: 0.1015\n",
            "Epoch 3/5\n",
            "2172/2172 [==============================] - 114s 53ms/step - loss: 3.3475 - accuracy: 0.0989 - val_loss: 3.3455 - val_accuracy: 0.1015\n",
            "Epoch 4/5\n",
            "2172/2172 [==============================] - 114s 52ms/step - loss: 3.3472 - accuracy: 0.1002 - val_loss: 3.3479 - val_accuracy: 0.0986\n",
            "Epoch 5/5\n",
            "2172/2172 [==============================] - 114s 52ms/step - loss: 3.3469 - accuracy: 0.1004 - val_loss: 3.3474 - val_accuracy: 0.0986\n",
            "Model: \"model\"\n",
            "_________________________________________________________________\n",
            " Layer (type)                Output Shape              Param #   \n",
            "=================================================================\n",
            " conv2d_input (InputLayer)   [(None, 224, 224, 3)]     0         \n",
            "                                                                 \n",
            " conv2d (Conv2D)             (None, 222, 222, 32)      896       \n",
            "                                                                 \n",
            " max_pooling2d (MaxPooling2  (None, 111, 111, 32)      0         \n",
            " D)                                                              \n",
            "                                                                 \n",
            " conv2d_1 (Conv2D)           (None, 109, 109, 64)      18496     \n",
            "                                                                 \n",
            " max_pooling2d_1 (MaxPoolin  (None, 54, 54, 64)        0         \n",
            " g2D)                                                            \n",
            "                                                                 \n",
            " conv2d_2 (Conv2D)           (None, 52, 52, 128)       73856     \n",
            "                                                                 \n",
            " max_pooling2d_2 (MaxPoolin  (None, 26, 26, 128)       0         \n",
            " g2D)                                                            \n",
            "                                                                 \n",
            " conv2d_3 (Conv2D)           (None, 24, 24, 256)       295168    \n",
            "                                                                 \n",
            " max_pooling2d_3 (MaxPoolin  (None, 12, 12, 256)       0         \n",
            " g2D)                                                            \n",
            "                                                                 \n",
            " conv2d_4 (Conv2D)           (None, 10, 10, 512)       1180160   \n",
            "                                                                 \n",
            " max_pooling2d_4 (MaxPoolin  (None, 5, 5, 512)         0         \n",
            " g2D)                                                            \n",
            "                                                                 \n",
            " conv2d_5 (Conv2D)           (None, 3, 3, 512)         2359808   \n",
            "                                                                 \n",
            " max_pooling2d_5 (MaxPoolin  (None, 1, 1, 512)         0         \n",
            " g2D)                                                            \n",
            "                                                                 \n",
            " flatten (Flatten)           (None, 512)               0         \n",
            "                                                                 \n",
            " dense (Dense)               (None, 512)               262656    \n",
            "                                                                 \n",
            " dense_1 (Dense)             (None, 38)                19494     \n",
            "                                                                 \n",
            " flatten_1 (Flatten)         (None, 38)                0         \n",
            "                                                                 \n",
            " dense_2 (Dense)             (None, 512)               19968     \n",
            "                                                                 \n",
            " dense_3 (Dense)             (None, 38)                19494     \n",
            "                                                                 \n",
            "=================================================================\n",
            "Total params: 4249996 (16.21 MB)\n",
            "Trainable params: 4249996 (16.21 MB)\n",
            "Non-trainable params: 0 (0.00 Byte)\n",
            "_________________________________________________________________\n"
          ]
        }
      ]
    },
    {
      "cell_type": "code",
      "source": [
        "def generate_grad_cam(model, img_path, target_size):\n",
        "    img = tf.keras.preprocessing.image.load_img(img_path, target_size=target_size)\n",
        "    img_array = tf.keras.preprocessing.image.img_to_array(img)\n",
        "    img_array = np.expand_dims(img_array, axis=0)\n",
        "    img_array /= 255.\n",
        "\n",
        "    # Find the last convolutional layer\n",
        "    last_conv_layer = None\n",
        "    for layer in model.layers[::-1]:\n",
        "        if isinstance(layer, Conv2D):\n",
        "            last_conv_layer = layer\n",
        "            break\n",
        "\n",
        "    if last_conv_layer is None:\n",
        "        raise ValueError(\"No convolutional layers found in the model.\")\n",
        "\n",
        "    grad_model = Model([model.inputs], [last_conv_layer.output, model.output])\n",
        "\n",
        "    with tf.GradientTape() as tape:\n",
        "        conv_output, predictions = grad_model(img_array)\n",
        "        loss = predictions[:, np.argmax(predictions[0])]\n",
        "    grads = tape.gradient(loss, conv_output)[0]\n",
        "\n",
        "    weights = tf.reduce_mean(grads, axis=(0, 1))\n",
        "\n",
        "    cam = np.dot(conv_output[0], weights)\n",
        "\n",
        "    cam = cv2.resize(cam, (target_size[1], target_size[0]))\n",
        "    cam = np.maximum(cam, 0)\n",
        "    cam = cam / cam.max()\n",
        "\n",
        "    return cam\n",
        "\n",
        "\n",
        "\n",
        "# Choose an image for visualization\n",
        "img_path = '1.jpg'\n",
        "# Load the original image using matplotlib\n",
        "original_img = plt.imread(img_path)\n",
        "\n",
        "# Generate Grad-CAM heatmap\n",
        "heatmap = generate_grad_cam(model, img_path, (img_width, img_height))\n",
        "\n",
        "# Resize heatmap to match the original image size\n",
        "heatmap = cv2.resize(heatmap, (original_img.shape[1], original_img.shape[0]))\n",
        "\n",
        "# Convert heatmap to RGB\n",
        "heatmap = np.uint8(255 * heatmap)\n",
        "\n",
        "# Apply heatmap on the original image\n",
        "heatmap = cv2.applyColorMap(heatmap, cv2.COLORMAP_JET)\n",
        "grad_cam_img = heatmap * 0.4 + original_img * 0.6  # Blend heatmap with the original image\n",
        "\n",
        "# Display the Grad-CAM image\n",
        "plt.imshow(grad_cam_img)\n",
        "plt.axis('off')\n",
        "plt.show()\n",
        "\n",
        "# Evaluate the model\n",
        "validation_generator.reset()  # Reset the generator\n",
        "pred = model.predict(validation_generator, steps=validation_generator.samples/validation_generator.batch_size, verbose=1)\n",
        "predicted_class_indices = np.argmax(pred, axis=1)\n",
        "\n",
        "# Get ground truth labels\n",
        "true_classes = validation_generator.classes\n",
        "class_labels = list(validation_generator.class_indices.keys())\n",
        "\n",
        "# Calculate evaluation metrics\n",
        "print(\"Confusion Matrix:\")\n",
        "print(confusion_matrix(true_classes, predicted_class_indices))\n",
        "print(\"Classification Report:\")\n",
        "print(classification_report(true_classes, predicted_class_indices, target_names=class_labels, zero_division=1))\n",
        "\n"
      ],
      "metadata": {
        "colab": {
          "base_uri": "https://localhost:8080/",
          "height": 1000
        },
        "id": "YavdREYeUw_c",
        "outputId": "6c8ce66e-84d7-4b27-bf4e-00b51a454bf6"
      },
      "execution_count": 12,
      "outputs": [
        {
          "output_type": "stream",
          "name": "stderr",
          "text": [
            "<ipython-input-12-3af9f8d81c3a>:30: RuntimeWarning: invalid value encountered in divide\n",
            "  cam = cam / cam.max()\n",
            "<ipython-input-12-3af9f8d81c3a>:48: RuntimeWarning: invalid value encountered in cast\n",
            "  heatmap = np.uint8(255 * heatmap)\n",
            "WARNING:matplotlib.image:Clipping input data to the valid range for imshow with RGB data ([0..1] for floats or [0..255] for integers).\n"
          ]
        },
        {
          "output_type": "display_data",
          "data": {
            "text/plain": [
              "<Figure size 640x480 with 1 Axes>"
            ],
            "image/png": "[encoded data removed]"
          },
          "metadata": {}
        },
        {
          "output_type": "stream",
          "name": "stdout",
          "text": [
            "543/543 [==============================] - 20s 37ms/step\n",
            "Confusion Matrix:\n",
            "[[   0    0    0 ...  126    0    0]\n",
            " [   0    0    0 ...  125    0    0]\n",
            " [   0    0    0 ...   55    0    0]\n",
            " ...\n",
            " [   0    0    0 ... 1071    0    0]\n",
            " [   0    0    0 ...   74    0    0]\n",
            " [   0    0    0 ...  318    0    0]]\n",
            "Classification Report:\n",
            "                                                    precision    recall  f1-score   support\n",
            "\n",
            "                                Apple___Apple_scab       1.00      0.00      0.00       126\n",
            "                                 Apple___Black_rot       1.00      0.00      0.00       125\n",
            "                          Apple___Cedar_apple_rust       1.00      0.00      0.00        55\n",
            "                                   Apple___healthy       1.00      0.00      0.00       329\n",
            "                               Blueberry___healthy       1.00      0.00      0.00       300\n",
            "          Cherry_(including_sour)___Powdery_mildew       1.00      0.00      0.00       210\n",
            "                 Cherry_(including_sour)___healthy       1.00      0.00      0.00       170\n",
            "Corn_(maize)___Cercospora_leaf_spot Gray_leaf_spot       1.00      0.00      0.00       103\n",
            "                       Corn_(maize)___Common_rust_       1.00      0.00      0.00       239\n",
            "               Corn_(maize)___Northern_Leaf_Blight       1.00      0.00      0.00       197\n",
            "                            Corn_(maize)___healthy       1.00      0.00      0.00       233\n",
            "                                 Grape___Black_rot       1.00      0.00      0.00       236\n",
            "                      Grape___Esca_(Black_Measles)       1.00      0.00      0.00       276\n",
            "        Grape___Leaf_blight_(Isariopsis_Leaf_Spot)       1.00      0.00      0.00       215\n",
            "                                   Grape___healthy       1.00      0.00      0.00        84\n",
            "          Orange___Haunglongbing_(Citrus_greening)       1.00      0.00      0.00      1102\n",
            "                            Peach___Bacterial_spot       0.00      0.00      0.00       459\n",
            "                                   Peach___healthy       1.00      0.00      0.00        72\n",
            "                     Pepper,_bell___Bacterial_spot       1.00      0.00      0.00       200\n",
            "                            Pepper,_bell___healthy       1.00      0.00      0.00       295\n",
            "                             Potato___Early_blight       1.00      0.00      0.00       200\n",
            "                              Potato___Late_blight       1.00      0.00      0.00       200\n",
            "                                  Potato___healthy       1.00      0.00      0.00        31\n",
            "                               Raspberry___healthy       1.00      0.00      0.00        74\n",
            "                                 Soybean___healthy       1.00      0.00      0.00      1018\n",
            "                           Squash___Powdery_mildew       1.00      0.00      0.00       367\n",
            "                          Strawberry___Leaf_scorch       1.00      0.00      0.00       222\n",
            "                              Strawberry___healthy       1.00      0.00      0.00        92\n",
            "                           Tomato___Bacterial_spot       1.00      0.00      0.00       425\n",
            "                             Tomato___Early_blight       1.00      0.00      0.00       200\n",
            "                              Tomato___Late_blight       1.00      0.00      0.00       382\n",
            "                                Tomato___Leaf_Mold       1.00      0.00      0.00       191\n",
            "                       Tomato___Septoria_leaf_spot       1.00      0.00      0.00       354\n",
            "     Tomato___Spider_mites Two-spotted_spider_mite       1.00      0.00      0.00       335\n",
            "                              Tomato___Target_Spot       1.00      0.00      0.00       281\n",
            "            Tomato___Tomato_Yellow_Leaf_Curl_Virus       0.10      1.00      0.18      1071\n",
            "                      Tomato___Tomato_mosaic_virus       1.00      0.00      0.00        74\n",
            "                                  Tomato___healthy       1.00      0.00      0.00       318\n",
            "\n",
            "                                          accuracy                           0.10     10861\n",
            "                                         macro avg       0.95      0.03      0.00     10861\n",
            "                                      weighted avg       0.87      0.10      0.02     10861\n",
            "\n"
          ]
        }
      ]
    },
    {
      "cell_type": "code",
      "source": [
        "import pickle\n",
        "\n",
        "# save the iris classification model as a pickle file\n",
        "model_pkl_file = \"saved_model.h5\"\n",
        "\n",
        "with open(model_pkl_file, 'wb') as file:\n",
        "    pickle.dump(model, file)\n"
      ],
      "metadata": {
        "id": "R1DphN76Qif6"
      },
      "execution_count": 17,
      "outputs": []
    },
    {
      "cell_type": "code",
      "source": [],
      "metadata": {
        "id": "qsUhlJqfevIC"
      },
      "execution_count": null,
      "outputs": []
    }
  ]
}